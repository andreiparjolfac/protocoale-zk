{
 "cells": [
  {
   "cell_type": "markdown",
   "metadata": {},
   "source": [
    "Pentru Verificator setăm parametrii publici/instances\n",
    "\n",
    "g - generatorul grupului ciclic\n",
    "p - număr prim suficient de mare \n",
    "h - rezultatul ridicării lui g la puterea x in grupul Zp\n",
    "\n",
    "Setăm parametrii ascunși/witnesses\n",
    "\n",
    "x - 1101938 , data nașterii în format MMDDYYYY\n"
   ]
  },
  {
   "cell_type": "code",
   "execution_count": 200,
   "metadata": {},
   "outputs": [],
   "source": [
    "from random import SystemRandom\n",
    "class Verifier:\n",
    "    def __init__(self,g,p,d) -> None:\n",
    "        self.generator = g \n",
    "        self.prime = p\n",
    "        self.__data_nastere = d\n",
    "        self._u = None\n",
    "        self._z = None\n",
    "        self.c = None\n",
    "        self.h = pow(self.generator,self.__data_nastere,self.prime)\n",
    "        \n",
    "    def getC(self):\n",
    "        self.c = SystemRandom().randrange(self.prime)\n",
    "        return self.c\n",
    "\n",
    "    def setU(self,u):\n",
    "        self._u=u\n",
    "    def setZ(self,z):\n",
    "        self._z=z\n",
    "    def accept(self):\n",
    "        return (pow(self.generator,\n",
    "                   self._z,\n",
    "                   self.prime)==(self._u*pow(self.h,self.c,self.prime))%self.prime)\n",
    "\n",
    "V = Verifier(5,2000000579,1101938)\n",
    "\n",
    "\n"
   ]
  },
  {
   "cell_type": "markdown",
   "metadata": {},
   "source": [
    "Pentru demonstrator trebuie să setăm răspunsul "
   ]
  },
  {
   "cell_type": "code",
   "execution_count": 201,
   "metadata": {},
   "outputs": [],
   "source": [
    "class Prover:\n",
    "    def __init__(self,g,p,guess) -> None:\n",
    "        self.generator = g \n",
    "        self.prime = p\n",
    "        self.r = None\n",
    "        self.__guess=guess\n",
    "        self.c = None \n",
    "\n",
    "    def setC(self,c):\n",
    "        self.c=c\n",
    "    \n",
    "    def computeZ(self):\n",
    "        return (self.r + self.c*self.__guess)\n",
    "P = Prover(5,2000000579,1101938)"
   ]
  },
  {
   "cell_type": "code",
   "execution_count": 202,
   "metadata": {},
   "outputs": [
    {
     "name": "stdout",
     "output_type": "stream",
     "text": [
      "Generator Public g: 5 \n",
      " h = g^x : 1880666247 \n",
      " Nr. prim : 2000000579\n",
      "Pas 1: Demonstratorul a generat numarul r : 1669847673\n",
      "Pas 2: Verificatorul a primit u=g^r  : 364366694\n",
      "Pas 3: Verificatorul a generat numarul c : 1639141002\n",
      "Pas 4: Demonstratorul a calculat numarul z = r + c*x : 1806233427309549\n",
      "P stie data nasterii\n"
     ]
    }
   ],
   "source": [
    "class ZK:\n",
    "    def __init__(self,P:Prover,V:Verifier) -> None:\n",
    "        self.P = P \n",
    "        self.V = V \n",
    "\n",
    "    def prove(self):\n",
    "        print(f\"Generator Public g: {self.V.generator} \\n h = g^x : {self.V.h} \\n Nr. prim : \"\n",
    "               f\"{self.V.prime}\")\n",
    "        gen = SystemRandom()\n",
    "        self.P.r = gen.randrange(self.P.prime)\n",
    "        print(f\"Pas 1: Demonstratorul a generat numarul r : {self.P.r}\")\n",
    "\n",
    "        self.V.setU(pow( self.P.generator , self.P.r , self.P.prime ))\n",
    "        print(f\"Pas 2: Verificatorul a primit u=g^r  : {pow( self.P.generator , self.P.r , self.P.prime )}\")\n",
    "\n",
    "        self.P.setC(self.V.getC())\n",
    "        print(f\"Pas 3: Verificatorul a generat numarul c : {self.P.c}\")\n",
    "\n",
    "        self.V.setZ(self.P.computeZ())\n",
    "        print(f\"Pas 4: Demonstratorul a calculat numarul z = r + c*x : {self.P.computeZ()}\")\n",
    "\n",
    "        if self.V.accept():\n",
    "            print(\"P stie data nasterii\")\n",
    "        else:\n",
    "            print(\"P nu stie data nasterii\")\n",
    "\n",
    "\n",
    "\n",
    "zk = ZK(P,V)\n",
    "zk.prove()\n",
    "\n",
    "    "
   ]
  }
 ],
 "metadata": {
  "kernelspec": {
   "display_name": "Python 3",
   "language": "python",
   "name": "python3"
  },
  "language_info": {
   "codemirror_mode": {
    "name": "ipython",
    "version": 3
   },
   "file_extension": ".py",
   "mimetype": "text/x-python",
   "name": "python",
   "nbconvert_exporter": "python",
   "pygments_lexer": "ipython3",
   "version": "3.12.0"
  }
 },
 "nbformat": 4,
 "nbformat_minor": 2
}
